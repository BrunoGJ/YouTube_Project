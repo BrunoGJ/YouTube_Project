{
 "cells": [
  {
   "cell_type": "code",
   "execution_count": 1,
   "metadata": {},
   "outputs": [],
   "source": [
    "import pandas as pd\n",
    "import numpy as np\n",
    "import sklearn.linear_model as lm\n",
    "import matplotlib.pyplot as plt\n",
    "import sklearn.model_selection as ms\n",
    "\n"
   ]
  },
  {
   "cell_type": "markdown",
   "metadata": {},
   "source": [
    "-Handle missing values\n",
    "-Data formatting techniques\n",
    "-Data normalization (scaling, min-max scaling, and z-score)\n",
    "-Usage of binning\n",
    "-Usage of categorical variables\n",
    "Data Pre-processing/ Data wrangling\n",
    "Data Formatting techniques\n",
    "Data Normalization\n",
    "Use of binning\n"
   ]
  },
  {
   "cell_type": "code",
   "execution_count": 2,
   "metadata": {},
   "outputs": [],
   "source": [
    "dataset = pd.read_csv(\"CAvideos.csv\")\n"
   ]
  },
  {
   "cell_type": "code",
   "execution_count": null,
   "metadata": {},
   "outputs": [],
   "source": [
    "#dataset['title'] = dataset['title'].str.replace(r'\\W',\"\")"
   ]
  },
  {
   "cell_type": "code",
   "execution_count": null,
   "metadata": {},
   "outputs": [],
   "source": [
    "dataset.head(20)"
   ]
  },
  {
   "cell_type": "code",
   "execution_count": null,
   "metadata": {},
   "outputs": [],
   "source": [
    "#Creating a new column to categorize the videos by popularity.\n",
    "\n",
    "bins = [0,10000,100000,500000,1000000,10000000,2000000000]\n",
    "\n",
    "group_names = ['not popular','almost popular','popular','very popular','extremely popular','conquer the world!']\n",
    "\n",
    "dataset['popularity'] = pd.cut(dataset[\"views\"],bins,labels = group_names)\n",
    "dataset.head()"
   ]
  },
  {
   "cell_type": "code",
   "execution_count": null,
   "metadata": {},
   "outputs": [],
   "source": [
    "#Creating a new columns named 'category_name' to inform the category of the videos.\n",
    "\n",
    "\n",
    "category_name = {1:'Film & Animation',\n",
    "2:'Autos & Vehicles',\n",
    "10:'Music',\n",
    "15:'Pets & Animals',\n",
    "17:'Sports',\n",
    "19:'Travel & Events',\n",
    "20:'Gaming',\n",
    "22:'People & Blogs',\n",
    "23:'Comedy',\n",
    "24:'Entertainment',\n",
    "25:'News & Politics',\n",
    "26:'Howto & Style',\n",
    "27:'Education',\n",
    "28:'Science & Technology',\n",
    "29:'Nonprofits & Activism'}\n",
    "\n",
    "dataset['category_name'] = dataset['category_id'].map(category_name)\n",
    "dataset.head()"
   ]
  },
  {
   "cell_type": "code",
   "execution_count": null,
   "metadata": {},
   "outputs": [],
   "source": [
    "excel = dataset.to_excel(\"CAvideos.xlsx\")"
   ]
  }
 ],
 "metadata": {
  "interpreter": {
   "hash": "66d7c0815ee3ec39f8a25542b36e8def4dce34ad6588e623c666e441b334d01c"
  },
  "kernelspec": {
   "display_name": "Python 3.9.7 ('base')",
   "language": "python",
   "name": "python3"
  },
  "language_info": {
   "codemirror_mode": {
    "name": "ipython",
    "version": 3
   },
   "file_extension": ".py",
   "mimetype": "text/x-python",
   "name": "python",
   "nbconvert_exporter": "python",
   "pygments_lexer": "ipython3",
   "version": "3.9.7"
  },
  "orig_nbformat": 4
 },
 "nbformat": 4,
 "nbformat_minor": 2
}
